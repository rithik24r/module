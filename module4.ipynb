{
  "nbformat": 4,
  "nbformat_minor": 0,
  "metadata": {
    "colab": {
      "name": "Untitled5.ipynb",
      "provenance": []
    },
    "kernelspec": {
      "name": "python3",
      "display_name": "Python 3"
    }
  },
  "cells": [
    {
      "cell_type": "code",
      "metadata": {
        "id": "oB94VW90qeGM",
        "colab_type": "code",
        "colab": {
          "base_uri": "https://localhost:8080/",
          "height": 54
        },
        "outputId": "85f4fa4e-07bb-44e2-de82-bdb3d7160dbe"
      },
      "source": [
        "def cloning(li1):\n",
        "         li_copy=list(li1)\n",
        "         return li_copy\n",
        "\n",
        "\n",
        "li1=[2,3,4,5,6,7,8]\n",
        "li2=cloning(li1)\n",
        "print(\"before clonning\",li1)\n",
        "print(\"after clonning\",li2)\n",
        "\n"
      ],
      "execution_count": 5,
      "outputs": [
        {
          "output_type": "stream",
          "text": [
            "before clonning [2, 3, 4, 5, 6, 7, 8]\n",
            "after clonning [2, 3, 4, 5, 6, 7, 8]\n"
          ],
          "name": "stdout"
        }
      ]
    },
    {
      "cell_type": "code",
      "metadata": {
        "id": "pCO9698ksiIO",
        "colab_type": "code",
        "colab": {
          "base_uri": "https://localhost:8080/",
          "height": 35
        },
        "outputId": "d888c10f-8f86-4563-8262-66ad539c0680"
      },
      "source": [
        "color=[\"red\",\"green\",\"blue\",\"grey\",\"white\",\"orange\"]\n",
        "color=[x for (i,x) in enumerate(color) if i not in(0,4,5)]\n",
        "print(color)"
      ],
      "execution_count": 6,
      "outputs": [
        {
          "output_type": "stream",
          "text": [
            "['green', 'blue', 'grey']\n"
          ],
          "name": "stdout"
        }
      ]
    },
    {
      "cell_type": "code",
      "metadata": {
        "id": "Xu4kN63uti3c",
        "colab_type": "code",
        "colab": {
          "base_uri": "https://localhost:8080/",
          "height": 35
        },
        "outputId": "cd2752c2-5c8a-4180-9229-772049c48667"
      },
      "source": [
        "list=[1,2,3,4,5,6,7,8]\n",
        "for i in list: \n",
        "               if(i%2==0):\n",
        "                           list.remove(i)\n",
        "print(\"after removing the even numbers\",list)\n",
        "          "
      ],
      "execution_count": 7,
      "outputs": [
        {
          "output_type": "stream",
          "text": [
            "after removing the even numbers [1, 3, 5, 7]\n"
          ],
          "name": "stdout"
        }
      ]
    },
    {
      "cell_type": "code",
      "metadata": {
        "id": "wn1qRkgluScI",
        "colab_type": "code",
        "colab": {
          "base_uri": "https://localhost:8080/",
          "height": 109
        },
        "outputId": "09a94a4c-476e-4e75-c19a-f92326cd3ad2"
      },
      "source": [
        "def unique(list1):\n",
        "                   unique_list=[]\n",
        "                   for x in list1:\n",
        "                                   if x not in unique_list:\n",
        "                                                              unique_list.append(x)\n",
        "                   for x in unique_list:\n",
        "                                          print(x)\n",
        "list1=[10,20,10,30,40,40]\n",
        "print(unique(list1))\n",
        "                "
      ],
      "execution_count": 14,
      "outputs": [
        {
          "output_type": "stream",
          "text": [
            "10\n",
            "20\n",
            "30\n",
            "40\n",
            "None\n"
          ],
          "name": "stdout"
        }
      ]
    },
    {
      "cell_type": "code",
      "metadata": {
        "id": "1Xr1xy5wwvs8",
        "colab_type": "code",
        "colab": {
          "base_uri": "https://localhost:8080/",
          "height": 72
        },
        "outputId": "4c70ef46-9262-4a3c-de67-ddcb4ab9e4da"
      },
      "source": [
        "while True:\n",
        "            n=int(input(\"enter a number between 0 and 100:\"))\n",
        "            if 0<=n <=100:\n",
        "              break\n",
        "            print('try again')"
      ],
      "execution_count": 23,
      "outputs": [
        {
          "output_type": "stream",
          "text": [
            "enter a number between 0 and 100:200\n",
            "try again\n",
            "enter a number between 0 and 100:50\n"
          ],
          "name": "stdout"
        }
      ]
    },
    {
      "cell_type": "code",
      "metadata": {
        "id": "WzCx-Tfyy9XY",
        "colab_type": "code",
        "colab": {
          "base_uri": "https://localhost:8080/",
          "height": 72
        },
        "outputId": "dd6547d0-db2c-4d1f-e688-adf58c05afb5"
      },
      "source": [
        "string=input(\"enter the string\")\n",
        "count1=0\n",
        "count2=0\n",
        "for i in string:\n",
        "                if (i.islower()):\n",
        "                           count1=count1+1\n",
        "                elif (i.isupper()):\n",
        "                           count2=count2+1\n",
        "print(\"number of lowecase character is\",count1)\n",
        "print(\"number of upper case character is\",count2)"
      ],
      "execution_count": 26,
      "outputs": [
        {
          "output_type": "stream",
          "text": [
            "enter the stringMy Name Is Rithik\n",
            "number of lowecase character is 10\n",
            "number of upper case character is 4\n"
          ],
          "name": "stdout"
        }
      ]
    }
  ]
}